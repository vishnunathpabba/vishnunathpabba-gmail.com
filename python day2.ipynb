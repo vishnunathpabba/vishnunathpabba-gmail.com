{
 "cells": [
  {
   "cell_type": "code",
   "execution_count": 3,
   "metadata": {},
   "outputs": [
    {
     "name": "stdout",
     "output_type": "stream",
     "text": [
      "enter the number 1 1\n",
      "enter the number 2 2\n",
      "enter the number 3 3\n",
      "3 is the large number\n"
     ]
    }
   ],
   "source": [
    "#find the large number from the given 3 numbers\n",
    "a1=int(input(\"enter the number 1 \"))\n",
    "a2=int(input(\"enter the number 2 \"))\n",
    "a3=int(input(\"enter the number 3 \"))\n",
    "if a1>a2 and a1>a3:\n",
    "    print(a1,\"is the large number\")\n",
    "elif a2>a1 and a2>a3:\n",
    "    print(a2,\"is the large number\")\n",
    "else :\n",
    "    print(a3,\"is the large number\")"
   ]
  },
  {
   "cell_type": "code",
   "execution_count": 4,
   "metadata": {},
   "outputs": [
    {
     "name": "stdout",
     "output_type": "stream",
     "text": [
      "enter year2019\n",
      "not a leap year\n"
     ]
    }
   ],
   "source": [
    "#check if a year is leap year or not\n",
    "year=int(input(\"enter year\"))\n",
    "if year%400==0 or (year%100!=0 and year%4==0):\n",
    "    print(\"leap year\")\n",
    "else :\n",
    "    print(\"not a leap year\")"
   ]
  },
  {
   "cell_type": "code",
   "execution_count": 5,
   "metadata": {},
   "outputs": [
    {
     "name": "stdout",
     "output_type": "stream",
     "text": [
      "Gitam\n",
      "Gitam\n",
      "Gitam\n",
      "Gitam\n",
      "Gitam\n"
     ]
    }
   ],
   "source": [
    "#need print \"Gitam\" for 5 times\n",
    "x=0\n",
    "while x<5:\n",
    "    print(\"Gitam\")\n",
    "    x=x+1"
   ]
  },
  {
   "cell_type": "code",
   "execution_count": 6,
   "metadata": {},
   "outputs": [
    {
     "name": "stdout",
     "output_type": "stream",
     "text": [
      "enter the number10\n",
      "1 2 3 4 5 6 7 8 9 10 "
     ]
    }
   ],
   "source": [
    "# print N natural numbers using while loop\n",
    "#input=10\n",
    "#output=1 2 3......10\n",
    "n=int(input(\"enter the number\"))\n",
    "i=1\n",
    "while i<=n:\n",
    "    print(i,end=\" \")\n",
    "    i=i+1"
   ]
  },
  {
   "cell_type": "code",
   "execution_count": 1,
   "metadata": {},
   "outputs": [
    {
     "name": "stdout",
     "output_type": "stream",
     "text": [
      "enter the number 10\n",
      "30\n"
     ]
    }
   ],
   "source": [
    "n=int(input(\"enter the number \"))\n",
    "i=1\n",
    "s=0\n",
    "while i<=n:\n",
    "    if i%2==0:\n",
    "        s=s+i\n",
    "    i=i+1\n",
    "print(s)        "
   ]
  },
  {
   "cell_type": "code",
   "execution_count": 3,
   "metadata": {},
   "outputs": [
    {
     "name": "stdout",
     "output_type": "stream",
     "text": [
      "enter the number 123\n",
      "3 2 1 "
     ]
    }
   ],
   "source": [
    "n=int(input(\"enter the number \"))\n",
    "while n!=0:\n",
    "    r=n%10\n",
    "    print(r,end=\" \")\n",
    "    n=n//10"
   ]
  },
  {
   "cell_type": "code",
   "execution_count": 8,
   "metadata": {},
   "outputs": [
    {
     "data": {
      "text/plain": [
       "6"
      ]
     },
     "execution_count": 8,
     "metadata": {},
     "output_type": "execute_result"
    }
   ],
   "source": [
    "# read a number--1234\n",
    "#output -- 6(2+4)\n",
    "def addEvenDigits(n):\n",
    "    sum=0\n",
    "    while n!=0:\n",
    "        r=n%10\n",
    "        if r%2==0:\n",
    "            sum=sum+r\n",
    "        n=n//10\n",
    "    return sum\n",
    "addEvenDigits(1234)"
   ]
  },
  {
   "cell_type": "code",
   "execution_count": 10,
   "metadata": {},
   "outputs": [
    {
     "data": {
      "text/plain": [
       "9"
      ]
     },
     "execution_count": 10,
     "metadata": {},
     "output_type": "execute_result"
    }
   ],
   "source": [
    "#read a number--19528\n",
    "#print the large digit print the number\n",
    "def printLarge(n):\n",
    "    large=0\n",
    "    while n!=0:\n",
    "        r=n%10\n",
    "        if large<r:\n",
    "            large=r\n",
    "        n=n//10\n",
    "    return large\n",
    "printLarge(19528)"
   ]
  },
  {
   "cell_type": "code",
   "execution_count": 1,
   "metadata": {},
   "outputs": [
    {
     "data": {
      "text/plain": [
       "321"
      ]
     },
     "execution_count": 1,
     "metadata": {},
     "output_type": "execute_result"
    }
   ],
   "source": [
    "#read a number input\n",
    "#output reverse of the given number\n",
    "#123--321\n",
    "def reverseNumber(n):\n",
    "    rev=0\n",
    "    while n!=0:\n",
    "        r=n%10\n",
    "        rev=rev*10+r\n",
    "        n=n//10\n",
    "    return rev\n",
    "reverseNumber(123) "
   ]
  },
  {
   "cell_type": "code",
   "execution_count": 6,
   "metadata": {},
   "outputs": [
    {
     "name": "stdout",
     "output_type": "stream",
     "text": [
      "No\n",
      "Yes\n"
     ]
    }
   ],
   "source": [
    "def isPalindrome(n):\n",
    "    rev=0\n",
    "    buffer=n\n",
    "    while n!=0:\n",
    "        r=n%10\n",
    "        rev=rev*10+r\n",
    "        n=n//10\n",
    "    if buffer == rev:\n",
    "            return \"Yes\"\n",
    "    else :\n",
    "            return \"No\"\n",
    "\n",
    "print(isPalindrome(123))\n",
    "print(isPalindrome(121))"
   ]
  },
  {
   "cell_type": "code",
   "execution_count": 7,
   "metadata": {},
   "outputs": [
    {
     "name": "stdout",
     "output_type": "stream",
     "text": [
      "1 2 3 4 5 6 7 8 9 10 "
     ]
    }
   ],
   "source": [
    "#function to print N natural numbers with for loop\n",
    "def printNNaturalnumbers(n):\n",
    "    for x in range(1,n+1):\n",
    "        print(x,end=\" \")\n",
    "    return\n",
    "printNNaturalnumbers(10)"
   ]
  },
  {
   "cell_type": "code",
   "execution_count": 8,
   "metadata": {},
   "outputs": [
    {
     "name": "stdout",
     "output_type": "stream",
     "text": [
      "11 12 13 14 15 16 17 18 19 20 21 22 23 24 25 "
     ]
    }
   ],
   "source": [
    "def printseries(lb,ub):\n",
    "    for x in range(lb,ub+1):\n",
    "        print(x,end=\" \")\n",
    "    return\n",
    "printseries(11,25)"
   ]
  },
  {
   "cell_type": "code",
   "execution_count": 11,
   "metadata": {},
   "outputs": [
    {
     "name": "stdout",
     "output_type": "stream",
     "text": [
      "100 104 108 112 116 120 124 128 132 136 140 144 148 "
     ]
    }
   ],
   "source": [
    "def alternatenumbers(lb,ub):\n",
    "    for x in range(lb,ub+1,4):\n",
    "        print(x,end=\" \")\n",
    "    return\n",
    "alternatenumbers(100,150)"
   ]
  },
  {
   "cell_type": "code",
   "execution_count": 12,
   "metadata": {},
   "outputs": [
    {
     "name": "stdout",
     "output_type": "stream",
     "text": [
      "10 9 8 7 6 5 4 3 2 1 "
     ]
    }
   ],
   "source": [
    "def reverserange(start,end):\n",
    "    for x in range(end,start-1,-1):\n",
    "        print(x,end=\" \")\n",
    "    return\n",
    "reverserange(1,10)"
   ]
  },
  {
   "cell_type": "code",
   "execution_count": null,
   "metadata": {},
   "outputs": [],
   "source": []
  }
 ],
 "metadata": {
  "kernelspec": {
   "display_name": "Python 3",
   "language": "python",
   "name": "python3"
  },
  "language_info": {
   "codemirror_mode": {
    "name": "ipython",
    "version": 3
   },
   "file_extension": ".py",
   "mimetype": "text/x-python",
   "name": "python",
   "nbconvert_exporter": "python",
   "pygments_lexer": "ipython3",
   "version": "3.7.3"
  }
 },
 "nbformat": 4,
 "nbformat_minor": 2
}
