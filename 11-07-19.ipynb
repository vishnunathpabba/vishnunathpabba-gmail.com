{
 "cells": [
  {
   "cell_type": "markdown",
   "metadata": {},
   "source": [
    "### standard libaries\n",
    "- file i/o\n",
    "- regular expression\n",
    "- datatime\n",
    "- math(numerical and mathematical)"
   ]
  },
  {
   "cell_type": "markdown",
   "metadata": {},
   "source": [
    "### File handing in python\n",
    " - File:-Documentr containing info resides on yhe permanent storage\n",
    " - Different types of files:- txt,doc,pdf,csv and etc......\n",
    " - input:-keyboard\n",
    " - output:-File\n",
    " \n",
    " \n",
    "### Modes of file i/o\n",
    " - 'w'--this mode is used to file writing\n",
    "   \n",
    "     -- if file is not present first it creates the file and write some data to it\n",
    "     -- if the file is already present then it will rewrite the previous content"
   ]
  },
  {
   "cell_type": "code",
   "execution_count": 1,
   "metadata": {},
   "outputs": [
    {
     "name": "stdout",
     "output_type": "stream",
     "text": [
      "file is created and data has written\n"
     ]
    }
   ],
   "source": [
    "# function to craete a file and write to the file\n",
    "def createfile(filename):\n",
    "    f=open(filename,'w')\n",
    "    for i in range(10):\n",
    "        f.write('this is %d line\\n'% i)\n",
    "    print(\"file is created and data has written\")\n",
    "    return\n",
    "createfile('file1.txt')"
   ]
  },
  {
   "cell_type": "code",
   "execution_count": 2,
   "metadata": {},
   "outputs": [
    {
     "name": "stdout",
     "output_type": "stream",
     "text": [
      "11-07-19.ipynb    \u001b[0m\u001b[01;34minclude\u001b[0m/      \u001b[01;34mqml\u001b[0m/             Untitled3.ipynb\r\n",
      "\u001b[01;34mbin\u001b[0m/              \u001b[01;34mlib\u001b[0m/          \u001b[01;34mresources\u001b[0m/       Untitled4.ipynb\r\n",
      "\u001b[01;34mcompiler_compat\u001b[0m/  \u001b[01;34mlibexec\u001b[0m/      \u001b[01;34msbin\u001b[0m/            Untitled5.ipynb\r\n",
      "\u001b[01;34mcondabin\u001b[0m/         LICENSE.txt   \u001b[01;34mshare\u001b[0m/           Untitled6.ipynb\r\n",
      "\u001b[01;34mconda-meta\u001b[0m/       \u001b[01;34mman\u001b[0m/          \u001b[01;34mshell\u001b[0m/           Untitled.ipynb\r\n",
      "\u001b[01;34mdoc\u001b[0m/              \u001b[01;34mmkspecs\u001b[0m/      \u001b[01;34mssl\u001b[0m/             \u001b[01;34mvar\u001b[0m/\r\n",
      "\u001b[01;34menvs\u001b[0m/             \u001b[01;34mphrasebooks\u001b[0m/  \u001b[01;34mtranslations\u001b[0m/    \u001b[01;34mx86_64-conda_cos6-linux-gnu\u001b[0m/\r\n",
      "\u001b[01;34metc\u001b[0m/              \u001b[01;34mpkgs\u001b[0m/         Untitled1.ipynb\r\n",
      "file1.txt         \u001b[01;34mplugins\u001b[0m/      Untitled2.ipynb\r\n"
     ]
    }
   ],
   "source": [
    "ls"
   ]
  },
  {
   "cell_type": "code",
   "execution_count": 3,
   "metadata": {},
   "outputs": [
    {
     "name": "stdout",
     "output_type": "stream",
     "text": [
      "file is created and data has written\n"
     ]
    }
   ],
   "source": [
    "def createfile(filename):\n",
    "    f=open(filename,'w')\n",
    "    f.write(\"testing...\\n\")\n",
    "    print(\"file is created and data has written\")\n",
    "    return\n",
    "createfile('file1.txt')"
   ]
  },
  {
   "cell_type": "code",
   "execution_count": 4,
   "metadata": {},
   "outputs": [
    {
     "name": "stdout",
     "output_type": "stream",
     "text": [
      "11-07-19.ipynb    \u001b[0m\u001b[01;34minclude\u001b[0m/      \u001b[01;34mqml\u001b[0m/             Untitled3.ipynb\r\n",
      "\u001b[01;34mbin\u001b[0m/              \u001b[01;34mlib\u001b[0m/          \u001b[01;34mresources\u001b[0m/       Untitled4.ipynb\r\n",
      "\u001b[01;34mcompiler_compat\u001b[0m/  \u001b[01;34mlibexec\u001b[0m/      \u001b[01;34msbin\u001b[0m/            Untitled5.ipynb\r\n",
      "\u001b[01;34mcondabin\u001b[0m/         LICENSE.txt   \u001b[01;34mshare\u001b[0m/           Untitled6.ipynb\r\n",
      "\u001b[01;34mconda-meta\u001b[0m/       \u001b[01;34mman\u001b[0m/          \u001b[01;34mshell\u001b[0m/           Untitled.ipynb\r\n",
      "\u001b[01;34mdoc\u001b[0m/              \u001b[01;34mmkspecs\u001b[0m/      \u001b[01;34mssl\u001b[0m/             \u001b[01;34mvar\u001b[0m/\r\n",
      "\u001b[01;34menvs\u001b[0m/             \u001b[01;34mphrasebooks\u001b[0m/  \u001b[01;34mtranslations\u001b[0m/    \u001b[01;34mx86_64-conda_cos6-linux-gnu\u001b[0m/\r\n",
      "\u001b[01;34metc\u001b[0m/              \u001b[01;34mpkgs\u001b[0m/         Untitled1.ipynb\r\n",
      "file1.txt         \u001b[01;34mplugins\u001b[0m/      Untitled2.ipynb\r\n"
     ]
    }
   ],
   "source": [
    "ls\n"
   ]
  },
  {
   "cell_type": "code",
   "execution_count": 7,
   "metadata": {},
   "outputs": [
    {
     "name": "stdout",
     "output_type": "stream",
     "text": [
      "file created and successfully data written\n"
     ]
    }
   ],
   "source": [
    "def appenddata(filename):\n",
    "    f=open(filename,'w')\n",
    "    for i in range(10):\n",
    "        f.write(\"this is %d line\\n\"%i)\n",
    "    print(\"file created and successfully data written\")\n",
    "    return\n",
    "appenddata('file2.txt')"
   ]
  },
  {
   "cell_type": "code",
   "execution_count": 8,
   "metadata": {},
   "outputs": [
    {
     "name": "stdout",
     "output_type": "stream",
     "text": [
      "file created and successfully data written\n"
     ]
    }
   ],
   "source": [
    "def appenddata(filename):\n",
    "    f=open(filename,'a')\n",
    "    f.write(\"new line 1\\n\")\n",
    "    f.write(\"new line 2\\n\")\n",
    "    print(\"file created and successfully data written\")\n",
    "    return\n",
    "appenddata('file2.txt')"
   ]
  },
  {
   "cell_type": "code",
   "execution_count": 9,
   "metadata": {},
   "outputs": [
    {
     "name": "stdout",
     "output_type": "stream",
     "text": [
      "this is 0 line\n",
      "this is 1 line\n",
      "this is 2 line\n",
      "this is 3 line\n",
      "this is 4 line\n",
      "this is 5 line\n",
      "this is 6 line\n",
      "this is 7 line\n",
      "this is 8 line\n",
      "this is 9 line\n",
      "new line 1\n",
      "new line 2\n",
      "\n"
     ]
    }
   ],
   "source": [
    "def readfiledata(filename):\n",
    "    f=open(filename,'r')\n",
    "    if f.mode =='r':\n",
    "        x=f.read()\n",
    "        print(x)\n",
    "    f.close\n",
    "    return\n",
    "readfiledata('file2.txt')"
   ]
  },
  {
   "cell_type": "code",
   "execution_count": 16,
   "metadata": {},
   "outputs": [
    {
     "name": "stdout",
     "output_type": "stream",
     "text": [
      "eneter the file namedata.txt\n",
      "enter the mode of the filea\n",
      "the data successfully written\n"
     ]
    }
   ],
   "source": [
    "def fileoperations(filename,mode):\n",
    "    with open(filename,mode)as f:\n",
    "        if f.mode=='r':\n",
    "            data=f.read()\n",
    "            print(data)\n",
    "        elif f.mode=='a':\n",
    "            f.write('data to the file')\n",
    "            print('the data successfully written')\n",
    "    f.close()\n",
    "    return\n",
    "filename=input('eneter the file name')\n",
    "mode=input('enter the mode of the file')\n",
    "fileoperations(filename,mode)"
   ]
  },
  {
   "cell_type": "code",
   "execution_count": 20,
   "metadata": {},
   "outputs": [
    {
     "name": "stdout",
     "output_type": "stream",
     "text": [
      "enter the file name :file2.txt\n",
      "enter the word :this\n"
     ]
    },
    {
     "data": {
      "text/plain": [
       "10"
      ]
     },
     "execution_count": 20,
     "metadata": {},
     "output_type": "execute_result"
    }
   ],
   "source": [
    "def wordcount(filename,word):\n",
    "    with open(filename,'r') as f:\n",
    "        if f.mode=='r':\n",
    "            x=f.read()\n",
    "            li=x.split()\n",
    "    cnt=li.count(word)\n",
    "    return cnt\n",
    "filename=input('enter the file name :')\n",
    "word=input('enter the word :')\n",
    "wordcount(filename,word)"
   ]
  },
  {
   "cell_type": "code",
   "execution_count": 21,
   "metadata": {},
   "outputs": [
    {
     "name": "stdout",
     "output_type": "stream",
     "text": [
      "enter the filename :file2.txt\n"
     ]
    },
    {
     "data": {
      "text/plain": [
       "172"
      ]
     },
     "execution_count": 21,
     "metadata": {},
     "output_type": "execute_result"
    }
   ],
   "source": [
    "# character count from the given file\n",
    "def charcount(filename):\n",
    "    with open(filename,'r') as f:\n",
    "        if f.mode=='r':\n",
    "            x=f.read()\n",
    "            li =list(x)\n",
    "        return len(li)\n",
    "filename=input('enter the filename :')\n",
    "charcount(filename)"
   ]
  },
  {
   "cell_type": "code",
   "execution_count": 22,
   "metadata": {},
   "outputs": [
    {
     "name": "stdout",
     "output_type": "stream",
     "text": [
      "['python progr', 'mming']\n"
     ]
    }
   ],
   "source": [
    "s1=\"python programming\"\n",
    "print(s1.split('a'))"
   ]
  },
  {
   "cell_type": "code",
   "execution_count": 23,
   "metadata": {},
   "outputs": [
    {
     "name": "stdout",
     "output_type": "stream",
     "text": [
      "enter the filename :file2.txt\n"
     ]
    },
    {
     "data": {
      "text/plain": [
       "13"
      ]
     },
     "execution_count": 23,
     "metadata": {},
     "output_type": "execute_result"
    }
   ],
   "source": [
    "# function to find the no.of lines in the input file\n",
    "# input -- filename(file2.txt)\n",
    "# output -- no of lines(12)\n",
    "def countoflines(filename):\n",
    "    with open(filename,'r')as f:\n",
    "        if f.mode=='r':\n",
    "            x=f.read()\n",
    "            li=x.split(\"\\n\")\n",
    "    return len(li)\n",
    "filename=input('enter the filename :')\n",
    "countoflines(filename)"
   ]
  },
  {
   "cell_type": "code",
   "execution_count": 27,
   "metadata": {},
   "outputs": [
    {
     "name": "stdout",
     "output_type": "stream",
     "text": [
      "enter the filename :file2.txt\n"
     ]
    },
    {
     "data": {
      "text/plain": [
       "'upper case=0,lower case=114'"
      ]
     },
     "execution_count": 27,
     "metadata": {},
     "output_type": "execute_result"
    }
   ],
   "source": [
    "# function to print the upper and lower characters\n",
    "def casecount(filename):\n",
    "    cntUpper=0\n",
    "    cntLower=0\n",
    "    with open(filename,'r')as f:\n",
    "        if f.mode=='r':\n",
    "            x=f.read()\n",
    "            li=list(x)\n",
    "    for i in li:\n",
    "        if i.isupper():\n",
    "            cntUpper +=1\n",
    "        elif i.islower():\n",
    "            cntLower +=1\n",
    "    output='upper case={0},lower case={1}'.format(cntUpper,cntLower)\n",
    "    return output\n",
    "filename=input('enter the filename :')\n",
    "casecount(filename)"
   ]
  },
  {
   "cell_type": "markdown",
   "metadata": {},
   "source": [
    "### Math,Random,os\n",
    " - os package contains the certain methods which work with os"
   ]
  },
  {
   "cell_type": "code",
   "execution_count": 28,
   "metadata": {},
   "outputs": [
    {
     "name": "stdout",
     "output_type": "stream",
     "text": [
      "11-07-19.ipynb    file2.txt     \u001b[0m\u001b[01;34mqml\u001b[0m/             Untitled4.ipynb\r\n",
      "\u001b[01;34mbin\u001b[0m/              \u001b[01;34minclude\u001b[0m/      \u001b[01;34mresources\u001b[0m/       Untitled5.ipynb\r\n",
      "\u001b[01;34mcompiler_compat\u001b[0m/  \u001b[01;34mlib\u001b[0m/          \u001b[01;34msbin\u001b[0m/            Untitled6.ipynb\r\n",
      "\u001b[01;34mcondabin\u001b[0m/         \u001b[01;34mlibexec\u001b[0m/      \u001b[01;34mshare\u001b[0m/           Untitled7.ipynb\r\n",
      "\u001b[01;34mconda-meta\u001b[0m/       LICENSE.txt   \u001b[01;34mshell\u001b[0m/           Untitled.ipynb\r\n",
      "data.txt          \u001b[01;34mman\u001b[0m/          \u001b[01;34mssl\u001b[0m/             \u001b[01;34mvar\u001b[0m/\r\n",
      "\u001b[01;34mdoc\u001b[0m/              \u001b[01;34mmkspecs\u001b[0m/      \u001b[01;34mtranslations\u001b[0m/    \u001b[01;34mx86_64-conda_cos6-linux-gnu\u001b[0m/\r\n",
      "\u001b[01;34menvs\u001b[0m/             \u001b[01;34mphrasebooks\u001b[0m/  Untitled1.ipynb\r\n",
      "\u001b[01;34metc\u001b[0m/              \u001b[01;34mpkgs\u001b[0m/         Untitled2.ipynb\r\n",
      "file1.txt         \u001b[01;34mplugins\u001b[0m/      Untitled3.ipynb\r\n"
     ]
    }
   ],
   "source": [
    "ls\n"
   ]
  },
  {
   "cell_type": "code",
   "execution_count": 29,
   "metadata": {},
   "outputs": [
    {
     "data": {
      "text/plain": [
       "['Untitled.ipynb',\n",
       " 'pkgs',\n",
       " 'shell',\n",
       " 'Untitled2.ipynb',\n",
       " 'share',\n",
       " 'envs',\n",
       " 'sbin',\n",
       " 'conda-meta',\n",
       " 'include',\n",
       " 'compiler_compat',\n",
       " 'resources',\n",
       " 'data.txt',\n",
       " 'Untitled1.ipynb',\n",
       " 'lib',\n",
       " 'plugins',\n",
       " 'Untitled6.ipynb',\n",
       " 'phrasebooks',\n",
       " 'Untitled5.ipynb',\n",
       " 'condabin',\n",
       " 'bin',\n",
       " 'file1.txt',\n",
       " '11-07-19.ipynb',\n",
       " 'x86_64-conda_cos6-linux-gnu',\n",
       " 'qml',\n",
       " 'man',\n",
       " 'Untitled4.ipynb',\n",
       " '.ipynb_checkpoints',\n",
       " 'Untitled7.ipynb',\n",
       " 'translations',\n",
       " 'mkspecs',\n",
       " 'var',\n",
       " 'file2.txt',\n",
       " 'Untitled3.ipynb',\n",
       " 'LICENSE.txt',\n",
       " 'doc',\n",
       " 'etc',\n",
       " 'ssl',\n",
       " 'libexec']"
      ]
     },
     "execution_count": 29,
     "metadata": {},
     "output_type": "execute_result"
    }
   ],
   "source": [
    "import os\n",
    "os.listdir()"
   ]
  },
  {
   "cell_type": "code",
   "execution_count": null,
   "metadata": {},
   "outputs": [],
   "source": [
    "import os\n",
    "os.listdir()"
   ]
  },
  {
   "cell_type": "code",
   "execution_count": 31,
   "metadata": {},
   "outputs": [
    {
     "name": "stdout",
     "output_type": "stream",
     "text": [
      "mkdir: cannot create directory ‘Git’: File exists\r\n"
     ]
    }
   ],
   "source": [
    "mkdir Git\n"
   ]
  },
  {
   "cell_type": "code",
   "execution_count": 32,
   "metadata": {},
   "outputs": [
    {
     "name": "stdout",
     "output_type": "stream",
     "text": [
      "/home/student/anaconda3/Git\n"
     ]
    }
   ],
   "source": [
    "cd Git"
   ]
  },
  {
   "cell_type": "code",
   "execution_count": 33,
   "metadata": {},
   "outputs": [
    {
     "data": {
      "text/plain": [
       "'/home/student/anaconda3/Git'"
      ]
     },
     "execution_count": 33,
     "metadata": {},
     "output_type": "execute_result"
    }
   ],
   "source": [
    "pwd\n"
   ]
  },
  {
   "cell_type": "code",
   "execution_count": 37,
   "metadata": {},
   "outputs": [
    {
     "ename": "AttributeError",
     "evalue": "module 'os' has no attribute 'lisdir'",
     "output_type": "error",
     "traceback": [
      "\u001b[0;31m---------------------------------------------------------------------------\u001b[0m",
      "\u001b[0;31mAttributeError\u001b[0m                            Traceback (most recent call last)",
      "\u001b[0;32m<ipython-input-37-9dc456afce09>\u001b[0m in \u001b[0;36m<module>\u001b[0;34m\u001b[0m\n\u001b[1;32m      1\u001b[0m \u001b[0mdirpath\u001b[0m\u001b[0;34m=\u001b[0m\u001b[0;34m'Git/'\u001b[0m\u001b[0;34m\u001b[0m\u001b[0;34m\u001b[0m\u001b[0m\n\u001b[0;32m----> 2\u001b[0;31m \u001b[0;32mfor\u001b[0m \u001b[0mi\u001b[0m \u001b[0;32min\u001b[0m \u001b[0mos\u001b[0m\u001b[0;34m.\u001b[0m\u001b[0mlisdir\u001b[0m\u001b[0;34m(\u001b[0m\u001b[0mdirpath\u001b[0m\u001b[0;34m)\u001b[0m\u001b[0;34m:\u001b[0m\u001b[0;34m\u001b[0m\u001b[0;34m\u001b[0m\u001b[0m\n\u001b[0m\u001b[1;32m      3\u001b[0m     \u001b[0;32mif\u001b[0m \u001b[0mos\u001b[0m\u001b[0;34m.\u001b[0m\u001b[0mpath\u001b[0m\u001b[0;34m.\u001b[0m\u001b[0misdir\u001b[0m\u001b[0;34m(\u001b[0m\u001b[0mos\u001b[0m\u001b[0;34m.\u001b[0m\u001b[0mpath\u001b[0m\u001b[0;34m,\u001b[0m\u001b[0mjoin\u001b[0m\u001b[0;34m(\u001b[0m\u001b[0mdirpath\u001b[0m\u001b[0;34m,\u001b[0m\u001b[0mi\u001b[0m\u001b[0;34m)\u001b[0m\u001b[0;34m)\u001b[0m\u001b[0;34m:\u001b[0m\u001b[0;34m\u001b[0m\u001b[0;34m\u001b[0m\u001b[0m\n\u001b[1;32m      4\u001b[0m         \u001b[0mprint\u001b[0m\u001b[0;34m(\u001b[0m\u001b[0mi\u001b[0m\u001b[0;34m)\u001b[0m\u001b[0;34m\u001b[0m\u001b[0;34m\u001b[0m\u001b[0m\n",
      "\u001b[0;31mAttributeError\u001b[0m: module 'os' has no attribute 'lisdir'"
     ]
    }
   ],
   "source": [
    "dirpath='Git'\n",
    "for i in os.lisdir(dirpath):\n",
    "    if os.path.isdir(os.path,join(dirpath,i)):\n",
    "        print(i)"
   ]
  },
  {
   "cell_type": "code",
   "execution_count": 38,
   "metadata": {},
   "outputs": [
    {
     "name": "stdout",
     "output_type": "stream",
     "text": [
      "/home/student/anaconda3\n"
     ]
    }
   ],
   "source": [
    "cd ..\n"
   ]
  },
  {
   "cell_type": "code",
   "execution_count": 40,
   "metadata": {},
   "outputs": [],
   "source": [
    "dirpath='Git'\n",
    "for i in os.listdir(dirpath):\n",
    "    if os.path.isdir(os.path,join(dirpath,i)):\n",
    "        print(i)"
   ]
  },
  {
   "cell_type": "code",
   "execution_count": 43,
   "metadata": {},
   "outputs": [
    {
     "ename": "FileExistsError",
     "evalue": "[Errno 17] File exists: 'singledirectory'",
     "output_type": "error",
     "traceback": [
      "\u001b[0;31m---------------------------------------------------------------------------\u001b[0m",
      "\u001b[0;31mFileExistsError\u001b[0m                           Traceback (most recent call last)",
      "\u001b[0;32m<ipython-input-43-0c750b70b147>\u001b[0m in \u001b[0;36m<module>\u001b[0;34m\u001b[0m\n\u001b[0;32m----> 1\u001b[0;31m \u001b[0mos\u001b[0m\u001b[0;34m.\u001b[0m\u001b[0mmkdir\u001b[0m\u001b[0;34m(\u001b[0m\u001b[0;34m\"singledirectory\"\u001b[0m\u001b[0;34m)\u001b[0m\u001b[0;34m\u001b[0m\u001b[0;34m\u001b[0m\u001b[0m\n\u001b[0m",
      "\u001b[0;31mFileExistsError\u001b[0m: [Errno 17] File exists: 'singledirectory'"
     ]
    }
   ],
   "source": [
    "os.mkdir(\"singledirectory\")"
   ]
  },
  {
   "cell_type": "code",
   "execution_count": 45,
   "metadata": {},
   "outputs": [],
   "source": [
    "import pathlib\n",
    "p=pathlib.Path('testfolder')\n",
    "p.mkdir()"
   ]
  },
  {
   "cell_type": "code",
   "execution_count": 46,
   "metadata": {},
   "outputs": [
    {
     "name": "stdout",
     "output_type": "stream",
     "text": [
      "11-07-19.ipynb    file2.txt     \u001b[0m\u001b[01;34mplugins\u001b[0m/          Untitled1.ipynb\r\n",
      "\u001b[01;34mbin\u001b[0m/              \u001b[01;34mGit\u001b[0m/          \u001b[01;34mqml\u001b[0m/              Untitled2.ipynb\r\n",
      "\u001b[01;34mcompiler_compat\u001b[0m/  \u001b[01;34minclude\u001b[0m/      \u001b[01;34mresources\u001b[0m/        Untitled3.ipynb\r\n",
      "\u001b[01;34mcondabin\u001b[0m/         \u001b[01;34mlib\u001b[0m/          \u001b[01;34msbin\u001b[0m/             Untitled4.ipynb\r\n",
      "\u001b[01;34mconda-meta\u001b[0m/       \u001b[01;34mlibexec\u001b[0m/      \u001b[01;34mshare\u001b[0m/            Untitled5.ipynb\r\n",
      "data.txt          LICENSE.txt   \u001b[01;34mshell\u001b[0m/            Untitled6.ipynb\r\n",
      "\u001b[01;34mdoc\u001b[0m/              \u001b[01;34mman\u001b[0m/          \u001b[01;34msingledirectory\u001b[0m/  Untitled7.ipynb\r\n",
      "\u001b[01;34menvs\u001b[0m/             \u001b[01;34mmkspecs\u001b[0m/      \u001b[01;34mssl\u001b[0m/              Untitled.ipynb\r\n",
      "\u001b[01;34metc\u001b[0m/              \u001b[01;34mphrasebooks\u001b[0m/  \u001b[01;34mtestfolder\u001b[0m/       \u001b[01;34mvar\u001b[0m/\r\n",
      "file1.txt         \u001b[01;34mpkgs\u001b[0m/         \u001b[01;34mtranslations\u001b[0m/     \u001b[01;34mx86_64-conda_cos6-linux-gnu\u001b[0m/\r\n"
     ]
    }
   ],
   "source": [
    "ls\n"
   ]
  },
  {
   "cell_type": "code",
   "execution_count": 47,
   "metadata": {},
   "outputs": [],
   "source": [
    "import os\n",
    "os.makedirs('2019/july/29')"
   ]
  },
  {
   "cell_type": "code",
   "execution_count": 49,
   "metadata": {},
   "outputs": [
    {
     "data": {
      "text/plain": [
       "'/home/student/anaconda3'"
      ]
     },
     "execution_count": 49,
     "metadata": {},
     "output_type": "execute_result"
    }
   ],
   "source": [
    "pwd\n"
   ]
  },
  {
   "cell_type": "code",
   "execution_count": 50,
   "metadata": {},
   "outputs": [
    {
     "name": "stdout",
     "output_type": "stream",
     "text": [
      "11-07-19.ipynb    file2.txt     \u001b[0m\u001b[01;34mqml\u001b[0m/              Untitled3.ipynb\r\n",
      "\u001b[01;34m2019\u001b[0m/             \u001b[01;34mGit\u001b[0m/          \u001b[01;34mresources\u001b[0m/        Untitled4.ipynb\r\n",
      "\u001b[01;34mbin\u001b[0m/              \u001b[01;34minclude\u001b[0m/      \u001b[01;34msbin\u001b[0m/             Untitled5.ipynb\r\n",
      "\u001b[01;34mcompiler_compat\u001b[0m/  \u001b[01;34mlib\u001b[0m/          \u001b[01;34mshare\u001b[0m/            Untitled6.ipynb\r\n",
      "\u001b[01;34mcondabin\u001b[0m/         \u001b[01;34mlibexec\u001b[0m/      \u001b[01;34mshell\u001b[0m/            Untitled7.ipynb\r\n",
      "\u001b[01;34mconda-meta\u001b[0m/       LICENSE.txt   \u001b[01;34msingledirectory\u001b[0m/  Untitled.ipynb\r\n",
      "data.txt          \u001b[01;34mman\u001b[0m/          \u001b[01;34mssl\u001b[0m/              \u001b[01;34mvar\u001b[0m/\r\n",
      "\u001b[01;34mdoc\u001b[0m/              \u001b[01;34mmkspecs\u001b[0m/      \u001b[01;34mtestfolder\u001b[0m/       \u001b[01;34mx86_64-conda_cos6-linux-gnu\u001b[0m/\r\n",
      "\u001b[01;34menvs\u001b[0m/             \u001b[01;34mphrasebooks\u001b[0m/  \u001b[01;34mtranslations\u001b[0m/\r\n",
      "\u001b[01;34metc\u001b[0m/              \u001b[01;34mpkgs\u001b[0m/         Untitled1.ipynb\r\n",
      "file1.txt         \u001b[01;34mplugins\u001b[0m/      Untitled2.ipynb\r\n"
     ]
    }
   ],
   "source": [
    "ls\n"
   ]
  },
  {
   "cell_type": "code",
   "execution_count": 63,
   "metadata": {},
   "outputs": [
    {
     "name": "stdout",
     "output_type": "stream",
     "text": [
      "Untitled.ipynb\n",
      "Untitled2.ipynb\n",
      "Untitled1.ipynb\n",
      "Untitled6.ipynb\n",
      "Untitled5.ipynb\n",
      "11-07-19.ipynb\n",
      "Untitled4.ipynb\n",
      "Untitled7.ipynb\n",
      "Untitled3.ipynb\n"
     ]
    }
   ],
   "source": [
    "import os\n",
    "dirpath='Git/'\n",
    "for f_name in os.listdir(dirpath):\n",
    "    if f_name.endswith('.ipynb'):\n",
    "        print(f_name)"
   ]
  },
  {
   "cell_type": "code",
   "execution_count": 54,
   "metadata": {},
   "outputs": [],
   "source": [
    "import os\n",
    "data_file='file1.txt'\n",
    "os.remove(data_file)"
   ]
  },
  {
   "cell_type": "code",
   "execution_count": 55,
   "metadata": {},
   "outputs": [
    {
     "name": "stdout",
     "output_type": "stream",
     "text": [
      "11-07-19.ipynb    file2.txt     \u001b[0m\u001b[01;34mplugins\u001b[0m/          Untitled1.ipynb\r\n",
      "\u001b[01;34m2019\u001b[0m/             \u001b[01;34mGit\u001b[0m/          \u001b[01;34mqml\u001b[0m/              Untitled2.ipynb\r\n",
      "\u001b[01;34mbin\u001b[0m/              \u001b[01;34minclude\u001b[0m/      \u001b[01;34mresources\u001b[0m/        Untitled3.ipynb\r\n",
      "\u001b[01;34mcompiler_compat\u001b[0m/  \u001b[01;34mlib\u001b[0m/          \u001b[01;34msbin\u001b[0m/             Untitled4.ipynb\r\n",
      "\u001b[01;34mcondabin\u001b[0m/         \u001b[01;34mlibexec\u001b[0m/      \u001b[01;34mshare\u001b[0m/            Untitled5.ipynb\r\n",
      "\u001b[01;34mconda-meta\u001b[0m/       LICENSE.txt   \u001b[01;34mshell\u001b[0m/            Untitled6.ipynb\r\n",
      "data.txt          \u001b[01;34mman\u001b[0m/          \u001b[01;34msingledirectory\u001b[0m/  Untitled7.ipynb\r\n",
      "\u001b[01;34mdoc\u001b[0m/              \u001b[01;34mmkspecs\u001b[0m/      \u001b[01;34mssl\u001b[0m/              Untitled.ipynb\r\n",
      "\u001b[01;34menvs\u001b[0m/             \u001b[01;34mphrasebooks\u001b[0m/  \u001b[01;34mtestfolder\u001b[0m/       \u001b[01;34mvar\u001b[0m/\r\n",
      "\u001b[01;34metc\u001b[0m/              \u001b[01;34mpkgs\u001b[0m/         \u001b[01;34mtranslations\u001b[0m/     \u001b[01;34mx86_64-conda_cos6-linux-gnu\u001b[0m/\r\n"
     ]
    }
   ],
   "source": [
    "ls\n"
   ]
  },
  {
   "cell_type": "code",
   "execution_count": 57,
   "metadata": {},
   "outputs": [
    {
     "ename": "FileNotFoundError",
     "evalue": "[Errno 2] No such file or directory: 'testfolder'",
     "output_type": "error",
     "traceback": [
      "\u001b[0;31m---------------------------------------------------------------------------\u001b[0m",
      "\u001b[0;31mFileNotFoundError\u001b[0m                         Traceback (most recent call last)",
      "\u001b[0;32m<ipython-input-57-6a2b7104006f>\u001b[0m in \u001b[0;36m<module>\u001b[0;34m\u001b[0m\n\u001b[1;32m      1\u001b[0m \u001b[0mdata_dir\u001b[0m\u001b[0;34m=\u001b[0m\u001b[0;34m'testfolder'\u001b[0m\u001b[0;34m\u001b[0m\u001b[0;34m\u001b[0m\u001b[0m\n\u001b[0;32m----> 2\u001b[0;31m \u001b[0mos\u001b[0m\u001b[0;34m.\u001b[0m\u001b[0mrmdir\u001b[0m\u001b[0;34m(\u001b[0m\u001b[0mdata_dir\u001b[0m\u001b[0;34m)\u001b[0m\u001b[0;34m\u001b[0m\u001b[0;34m\u001b[0m\u001b[0m\n\u001b[0m",
      "\u001b[0;31mFileNotFoundError\u001b[0m: [Errno 2] No such file or directory: 'testfolder'"
     ]
    }
   ],
   "source": [
    "data_dir='testfolder'\n",
    "os.rmdir(data_dir)"
   ]
  },
  {
   "cell_type": "code",
   "execution_count": 58,
   "metadata": {},
   "outputs": [
    {
     "name": "stdout",
     "output_type": "stream",
     "text": [
      "11-07-19.ipynb    file2.txt     \u001b[0m\u001b[01;34mplugins\u001b[0m/          Untitled2.ipynb\r\n",
      "\u001b[01;34m2019\u001b[0m/             \u001b[01;34mGit\u001b[0m/          \u001b[01;34mqml\u001b[0m/              Untitled3.ipynb\r\n",
      "\u001b[01;34mbin\u001b[0m/              \u001b[01;34minclude\u001b[0m/      \u001b[01;34mresources\u001b[0m/        Untitled4.ipynb\r\n",
      "\u001b[01;34mcompiler_compat\u001b[0m/  \u001b[01;34mlib\u001b[0m/          \u001b[01;34msbin\u001b[0m/             Untitled5.ipynb\r\n",
      "\u001b[01;34mcondabin\u001b[0m/         \u001b[01;34mlibexec\u001b[0m/      \u001b[01;34mshare\u001b[0m/            Untitled6.ipynb\r\n",
      "\u001b[01;34mconda-meta\u001b[0m/       LICENSE.txt   \u001b[01;34mshell\u001b[0m/            Untitled7.ipynb\r\n",
      "data.txt          \u001b[01;34mman\u001b[0m/          \u001b[01;34msingledirectory\u001b[0m/  Untitled.ipynb\r\n",
      "\u001b[01;34mdoc\u001b[0m/              \u001b[01;34mmkspecs\u001b[0m/      \u001b[01;34mssl\u001b[0m/              \u001b[01;34mvar\u001b[0m/\r\n",
      "\u001b[01;34menvs\u001b[0m/             \u001b[01;34mphrasebooks\u001b[0m/  \u001b[01;34mtranslations\u001b[0m/     \u001b[01;34mx86_64-conda_cos6-linux-gnu\u001b[0m/\r\n",
      "\u001b[01;34metc\u001b[0m/              \u001b[01;34mpkgs\u001b[0m/         Untitled1.ipynb\r\n"
     ]
    }
   ],
   "source": [
    "ls\n"
   ]
  },
  {
   "cell_type": "code",
   "execution_count": 64,
   "metadata": {},
   "outputs": [
    {
     "ename": "OSError",
     "evalue": "[Errno 39] Directory not empty: '2019'",
     "output_type": "error",
     "traceback": [
      "\u001b[0;31m---------------------------------------------------------------------------\u001b[0m",
      "\u001b[0;31mOSError\u001b[0m                                   Traceback (most recent call last)",
      "\u001b[0;32m<ipython-input-64-09a39f075299>\u001b[0m in \u001b[0;36m<module>\u001b[0;34m\u001b[0m\n\u001b[1;32m      1\u001b[0m \u001b[0mdata_dir\u001b[0m\u001b[0;34m=\u001b[0m\u001b[0;34m'2019'\u001b[0m\u001b[0;34m\u001b[0m\u001b[0;34m\u001b[0m\u001b[0m\n\u001b[0;32m----> 2\u001b[0;31m \u001b[0mos\u001b[0m\u001b[0;34m.\u001b[0m\u001b[0mrmdir\u001b[0m\u001b[0;34m(\u001b[0m\u001b[0mdata_dir\u001b[0m\u001b[0;34m)\u001b[0m\u001b[0;34m\u001b[0m\u001b[0;34m\u001b[0m\u001b[0m\n\u001b[0m",
      "\u001b[0;31mOSError\u001b[0m: [Errno 39] Directory not empty: '2019'"
     ]
    }
   ],
   "source": [
    "data_dir='2019'\n",
    "os.rmdir(data_dir)"
   ]
  },
  {
   "cell_type": "code",
   "execution_count": null,
   "metadata": {},
   "outputs": [],
   "source": []
  }
 ],
 "metadata": {
  "kernelspec": {
   "display_name": "Python 3",
   "language": "python",
   "name": "python3"
  },
  "language_info": {
   "codemirror_mode": {
    "name": "ipython",
    "version": 3
   },
   "file_extension": ".py",
   "mimetype": "text/x-python",
   "name": "python",
   "nbconvert_exporter": "python",
   "pygments_lexer": "ipython3",
   "version": "3.7.3"
  }
 },
 "nbformat": 4,
 "nbformat_minor": 2
}
